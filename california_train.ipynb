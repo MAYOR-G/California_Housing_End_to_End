{
 "cells": [
  {
   "cell_type": "code",
   "execution_count": null,
   "id": "a611c3cb",
   "metadata": {},
   "outputs": [
    {
     "ename": "ModuleNotFoundError",
     "evalue": "No module named 'plotly'",
     "output_type": "error",
     "traceback": [
      "\u001b[31m---------------------------------------------------------------------------\u001b[39m",
      "\u001b[31mModuleNotFoundError\u001b[39m                       Traceback (most recent call last)",
      "\u001b[36mCell\u001b[39m\u001b[36m \u001b[39m\u001b[32mIn[1]\u001b[39m\u001b[32m, line 3\u001b[39m\n\u001b[32m      1\u001b[39m \u001b[38;5;28;01mimport\u001b[39;00m\u001b[38;5;250m \u001b[39m\u001b[34;01mpandas\u001b[39;00m\u001b[38;5;250m \u001b[39m\u001b[38;5;28;01mas\u001b[39;00m\u001b[38;5;250m \u001b[39m\u001b[34;01mpd\u001b[39;00m,\u001b[38;5;250m \u001b[39m\u001b[34;01mnumpy\u001b[39;00m\u001b[38;5;250m \u001b[39m\u001b[38;5;28;01mas\u001b[39;00m\u001b[38;5;250m \u001b[39m\u001b[34;01mnp\u001b[39;00m\n\u001b[32m      2\u001b[39m \u001b[38;5;28;01mimport\u001b[39;00m\u001b[38;5;250m \u001b[39m\u001b[34;01mseaborn\u001b[39;00m\u001b[38;5;250m \u001b[39m\u001b[38;5;28;01mas\u001b[39;00m\u001b[38;5;250m \u001b[39m\u001b[34;01msns\u001b[39;00m,\u001b[38;5;250m \u001b[39m\u001b[34;01mmatplotlib\u001b[39;00m\u001b[34;01m.\u001b[39;00m\u001b[34;01mpyplot\u001b[39;00m\u001b[38;5;250m \u001b[39m\u001b[38;5;28;01mas\u001b[39;00m\u001b[38;5;250m \u001b[39m\u001b[34;01mplt\u001b[39;00m\n\u001b[32m----> \u001b[39m\u001b[32m3\u001b[39m \u001b[38;5;28;01mimport\u001b[39;00m\u001b[38;5;250m \u001b[39m\u001b[34;01mplotly\u001b[39;00m\u001b[34;01m.\u001b[39;00m\u001b[34;01mexpress\u001b[39;00m\u001b[38;5;250m \u001b[39m\u001b[38;5;28;01mas\u001b[39;00m\u001b[38;5;250m \u001b[39m\u001b[34;01mpx\u001b[39;00m\n\u001b[32m      4\u001b[39m \u001b[38;5;28;01mfrom\u001b[39;00m\u001b[38;5;250m \u001b[39m\u001b[34;01msklearn\u001b[39;00m\u001b[34;01m.\u001b[39;00m\u001b[34;01mdatasets\u001b[39;00m\u001b[38;5;250m \u001b[39m\u001b[38;5;28;01mimport\u001b[39;00m fetch_california_housing\n\u001b[32m      5\u001b[39m \u001b[38;5;28;01mfrom\u001b[39;00m\u001b[38;5;250m \u001b[39m\u001b[34;01msklearn\u001b[39;00m\u001b[34;01m.\u001b[39;00m\u001b[34;01mmodel_selection\u001b[39;00m\u001b[38;5;250m \u001b[39m\u001b[38;5;28;01mimport\u001b[39;00m train_test_split\n",
      "\u001b[31mModuleNotFoundError\u001b[39m: No module named 'plotly'"
     ]
    }
   ],
   "source": [
    "# Install missing plotting dependency for this notebook\n",
    "\n",
    "import pandas as pd, numpy as np\n",
    "import seaborn as sns, matplotlib.pyplot as plt\n",
    "\n",
    "from sklearn.datasets import fetch_california_housing\n",
    "from sklearn.model_selection import train_test_split    \n",
    "from sklearn.metrics import mean_squared_error, r2_score\n",
    "from sklearn.ensemble import HistGradientBoostingRegressor\n",
    "import joblib, pathlib"
   ]
  },
  {
   "cell_type": "code",
   "execution_count": null,
   "id": "cc7a9b05",
   "metadata": {},
   "outputs": [],
   "source": [
    "data = fetch_california_housing(as_frame=True)\n",
    "df = data.frame.rename(columns={\"MedHouseVal\":\"Target\"})"
   ]
  },
  {
   "cell_type": "code",
   "execution_count": null,
   "id": "f12d136b",
   "metadata": {},
   "outputs": [],
   "source": [
    "display(df.head())\n",
    "plt.figure(figsize=(8,4))\n",
    "sns.histplot(df[\"Target\"], kde=True)\n",
    "plt.title(\"Target Distribution ($100k units)\"); plt.xlabel(\"MedHouseVal\"); plt.tight_layout(); plt.show()\n",
    "\n",
    "fig = plt.scatter(df, x=\"MedInc\", y=\"Target\", trendline=\"ols\",\n",
    "                 title=\"Target vs Median Income (strongest single predictor)\")\n",
    "fig.show()"
   ]
  },
  {
   "cell_type": "code",
   "execution_count": null,
   "id": "42f28781",
   "metadata": {},
   "outputs": [],
   "source": [
    "X = df.drop(columns=[\"Target\"])\n",
    "y = df[\"Target\"]\n",
    "X_train, X_test, y_train, y_test = train_test_split(X, y, test_size=0.2, random_state=42)\n"
   ]
  },
  {
   "cell_type": "code",
   "execution_count": null,
   "id": "a65f5225",
   "metadata": {},
   "outputs": [],
   "source": [
    "model = HistGradientBoostingRegressor(learning_rate=0.08, max_depth=None, random_state=42)\n",
    "model.fit(X_train, y_train)"
   ]
  },
  {
   "cell_type": "code",
   "execution_count": null,
   "id": "6f35b0d9",
   "metadata": {},
   "outputs": [],
   "source": [
    "pred = model.predict(X_test)\n",
    "mse  = mean_squared_error(y_test, pred)\n",
    "rmse = np.sqrt(mse)\n",
    "r2   = r2_score(y_test, pred)\n",
    "print({\"mse\": mse, \"rmse\": rmse, \"r2\": r2})"
   ]
  },
  {
   "cell_type": "code",
   "execution_count": null,
   "id": "05e71682",
   "metadata": {},
   "outputs": [],
   "source": [
    "example = X_test.iloc[:1]\n",
    "example_pred_usd = float(model.predict(example)[0]) * 100_000\n",
    "print(\"Example input:\\n\", example.to_dict(orient=\"records\")[0])\n",
    "print(\"Example predicted USD:\", round(example_pred_usd, 2))"
   ]
  },
  {
   "cell_type": "code",
   "execution_count": null,
   "id": "c987c634",
   "metadata": {},
   "outputs": [],
   "source": [
    "out_path = pathlib.Path(\"..\") / \"model.joblib\"\n",
    "joblib.dump(model, out_path)\n",
    "print(\"Saved model to\", out_path.resolve())"
   ]
  }
 ],
 "metadata": {
  "kernelspec": {
   "display_name": "Python 3",
   "language": "python",
   "name": "python3"
  },
  "language_info": {
   "codemirror_mode": {
    "name": "ipython",
    "version": 3
   },
   "file_extension": ".py",
   "mimetype": "text/x-python",
   "name": "python",
   "nbconvert_exporter": "python",
   "pygments_lexer": "ipython3",
   "version": "3.11.0"
  }
 },
 "nbformat": 4,
 "nbformat_minor": 5
}
